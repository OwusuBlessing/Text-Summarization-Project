{
 "cells": [
  {
   "cell_type": "code",
   "execution_count": 1,
   "id": "initial_id",
   "metadata": {
    "collapsed": true,
    "ExecuteTime": {
     "end_time": "2023-11-20T20:06:53.660357300Z",
     "start_time": "2023-11-20T20:06:53.573039900Z"
    }
   },
   "outputs": [],
   "source": [
    "import os\n"
   ]
  },
  {
   "cell_type": "code",
   "execution_count": 3,
   "outputs": [
    {
     "name": "stdout",
     "output_type": "stream",
     "text": [
      "C:\\Users\\User\\Desktop\\Main-NLP-PROJECTS\\Text-Summarization-Project\\research\n"
     ]
    }
   ],
   "source": [
    "!cd"
   ],
   "metadata": {
    "collapsed": false,
    "ExecuteTime": {
     "end_time": "2023-11-20T20:07:18.177937800Z",
     "start_time": "2023-11-20T20:07:16.997938500Z"
    }
   },
   "id": "5d79842911ce2b23"
  },
  {
   "cell_type": "code",
   "execution_count": 11,
   "outputs": [],
   "source": [
    "os.chdir(\"../\")"
   ],
   "metadata": {
    "collapsed": false,
    "ExecuteTime": {
     "end_time": "2023-11-21T10:57:50.908114300Z",
     "start_time": "2023-11-21T10:57:50.883110600Z"
    }
   },
   "id": "8f8c1d15fe687d43"
  },
  {
   "cell_type": "code",
   "execution_count": 5,
   "outputs": [
    {
     "name": "stdout",
     "output_type": "stream",
     "text": [
      "C:\\Users\\User\\Desktop\\Main-NLP-PROJECTS\\Text-Summarization-Project\n"
     ]
    }
   ],
   "source": [
    "!cd"
   ],
   "metadata": {
    "collapsed": false,
    "ExecuteTime": {
     "end_time": "2023-11-20T20:07:43.845283600Z",
     "start_time": "2023-11-20T20:07:43.389534100Z"
    }
   },
   "id": "4f5bd587e97f6df4"
  },
  {
   "cell_type": "markdown",
   "source": [
    "Update config.ymal"
   ],
   "metadata": {
    "collapsed": false
   },
   "id": "81f3a48ddf55278c"
  },
  {
   "cell_type": "code",
   "execution_count": 28,
   "outputs": [],
   "source": [
    "#enity\n",
    "from dataclasses import dataclass\n",
    "from pathlib import Path\n",
    "\n",
    "@dataclass(frozen=True)\n",
    "class DataIngestionConfig:\n",
    "    root_dir: Path\n",
    "    source_URL: str\n",
    "    local_data_file: Path\n",
    "    unzip_dir: Path\n",
    "    "
   ],
   "metadata": {
    "collapsed": false,
    "ExecuteTime": {
     "end_time": "2023-11-21T11:10:55.106382700Z",
     "start_time": "2023-11-21T11:10:55.080817100Z"
    }
   },
   "id": "56eb602165bb873d"
  },
  {
   "cell_type": "markdown",
   "source": [],
   "metadata": {
    "collapsed": false
   },
   "id": "7019e46c316c2fe5"
  },
  {
   "cell_type": "code",
   "execution_count": 29,
   "outputs": [],
   "source": [
    "from TextSummarizer.constants import *\n",
    "from TextSummarizer.utils.common import read_yaml,create_directory\n"
   ],
   "metadata": {
    "collapsed": false,
    "ExecuteTime": {
     "end_time": "2023-11-21T11:10:56.275782700Z",
     "start_time": "2023-11-21T11:10:56.246788600Z"
    }
   },
   "id": "8839f17ea6342e7f"
  },
  {
   "cell_type": "code",
   "execution_count": 30,
   "outputs": [],
   "source": [
    "class ConfigurationManager:\n",
    "    def __init__(self,\n",
    "                 condfi_filepath = CONFIG_FILE_PATH,\n",
    "                 params_filepath = PARAMS_FILE_PATH):\n",
    "        self.config=read_yaml(condfi_filepath)\n",
    "        self.params = read_yaml(params_filepath)\n",
    "        create_directory([self.config.artifact_root])\n",
    "        \n",
    "    def data_ingestion_config(self) -> DataIngestionConfig:\n",
    "        config = self.config.data_ingestion\n",
    "        create_directory([config.root_dir])\n",
    "        \n",
    "        data_ingestion_config = DataIngestionConfig(\n",
    "            root_dir=config.root_dir,\n",
    "            source_URL=config.source_URL,\n",
    "            local_data_file=config.local_data_file,\n",
    "            unzip_dir=config.unzip_dir\n",
    "        )\n",
    "\n",
    "        return data_ingestion_config\n",
    "    \n",
    "\n",
    "\n",
    "    "
   ],
   "metadata": {
    "collapsed": false,
    "ExecuteTime": {
     "end_time": "2023-11-21T11:10:56.608784100Z",
     "start_time": "2023-11-21T11:10:56.586787600Z"
    }
   },
   "id": "d4f22fec8643c66a"
  },
  {
   "cell_type": "code",
   "execution_count": 31,
   "outputs": [],
   "source": [
    "#create components\n",
    "import os\n",
    "import urllib.request as request\n",
    "import zipfile \n",
    "from TextSummarizer.logging import logger\n",
    "from TextSummarizer.utils.common import get_size\n",
    "\n"
   ],
   "metadata": {
    "collapsed": false,
    "ExecuteTime": {
     "end_time": "2023-11-21T11:10:56.905783Z",
     "start_time": "2023-11-21T11:10:56.886784Z"
    }
   },
   "id": "dd79908c1f406357"
  },
  {
   "cell_type": "code",
   "execution_count": 41,
   "outputs": [],
   "source": [
    "class DataIngestion:\n",
    "    def __init__(self,config:DataIngestionConfig):\n",
    "        self.config = config\n",
    "        \n",
    "    def download_file(self):\n",
    "        if not os.path.exists(self.config.local_data_file):\n",
    "            filename,headers = request.urlretrieve(url = self.config.source_URL,\n",
    "              filename=self.config.local_data_file)\n",
    "            logger.info(f\"{filename} downloaded! with the following info: \\n{headers}\")\n",
    "        else:\n",
    "            logger.info(f\"file already exists of size: {get_size(Path(self.config.local_data_file))}\")\n",
    "    def extrac_zipfile(self):\n",
    "        \"\"\"\n",
    "        zip_file_path: str\n",
    "        extracts zip file into data directory\n",
    "        function returns None \n",
    "        \"\"\"\n",
    "        unzip_path = self.config.unzip_dir\n",
    "        os.makedirs(\n",
    "            unzip_path,exist_ok=True\n",
    "        )\n",
    "        \n",
    "        with zipfile.ZipFile(self.config.local_data_file,\"r\") as zip_ref:\n",
    "            zip_ref.extractall(unzip_path)\n",
    "        \n",
    "                          \n",
    "        "
   ],
   "metadata": {
    "collapsed": false,
    "ExecuteTime": {
     "end_time": "2023-11-21T11:16:31.809344600Z",
     "start_time": "2023-11-21T11:16:31.699345300Z"
    }
   },
   "id": "7c8f869c786f9f83"
  },
  {
   "cell_type": "code",
   "execution_count": 42,
   "outputs": [
    {
     "name": "stdout",
     "output_type": "stream",
     "text": [
      "[2023-11-21 12:16:32,125: INFO: common: Directory Artifacts created]\n",
      "[2023-11-21 12:16:32,128: INFO: common: Directory Artifacts/data_ingestion created]\n",
      "[2023-11-21 12:16:32,130: INFO: 2337483636: file already exists of size: ~4139 KB]\n"
     ]
    }
   ],
   "source": [
    "try:\n",
    "    config = ConfigurationManager()\n",
    "    data_ingestion_config = config.data_ingestion_config()\n",
    "    data_ingestion = DataIngestion(config=data_ingestion_config)\n",
    "    data_ingestion.download_file()\n",
    "    data_ingestion.extrac_zipfile()\n",
    "except Exception as e:\n",
    "    raise e\n"
   ],
   "metadata": {
    "collapsed": false,
    "ExecuteTime": {
     "end_time": "2023-11-21T11:16:32.400845300Z",
     "start_time": "2023-11-21T11:16:32.126848900Z"
    }
   },
   "id": "f3198d128791ef4b"
  },
  {
   "cell_type": "code",
   "execution_count": 10,
   "outputs": [
    {
     "name": "stdout",
     "output_type": "stream",
     "text": [
      "C:\\Users\\User\\Desktop\\Main-NLP-PROJECTS\\Text-Summarization-Project\\research\n"
     ]
    }
   ],
   "source": [],
   "metadata": {
    "collapsed": false,
    "ExecuteTime": {
     "end_time": "2023-11-21T10:57:40.881714Z",
     "start_time": "2023-11-21T10:57:40.779166700Z"
    }
   },
   "id": "6bcd1b90f7ac644"
  },
  {
   "cell_type": "code",
   "execution_count": null,
   "outputs": [],
   "source": [],
   "metadata": {
    "collapsed": false
   },
   "id": "bfe6308c25700ef"
  }
 ],
 "metadata": {
  "kernelspec": {
   "display_name": "Python 3",
   "language": "python",
   "name": "python3"
  },
  "language_info": {
   "codemirror_mode": {
    "name": "ipython",
    "version": 2
   },
   "file_extension": ".py",
   "mimetype": "text/x-python",
   "name": "python",
   "nbconvert_exporter": "python",
   "pygments_lexer": "ipython2",
   "version": "2.7.6"
  }
 },
 "nbformat": 4,
 "nbformat_minor": 5
}
