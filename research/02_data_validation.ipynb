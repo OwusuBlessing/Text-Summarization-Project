{
 "cells": [
  {
   "cell_type": "code",
   "execution_count": 2,
   "outputs": [],
   "source": [
    "import os"
   ],
   "metadata": {
    "collapsed": false,
    "ExecuteTime": {
     "end_time": "2023-11-21T21:17:15.189473900Z",
     "start_time": "2023-11-21T21:17:14.976474700Z"
    }
   },
   "id": "dfc2d786f8628696"
  },
  {
   "cell_type": "code",
   "execution_count": 3,
   "id": "initial_id",
   "metadata": {
    "collapsed": true,
    "ExecuteTime": {
     "end_time": "2023-11-21T21:17:15.357476500Z",
     "start_time": "2023-11-21T21:17:15.336478500Z"
    }
   },
   "outputs": [],
   "source": [
    "os.chdir(\"../\")"
   ]
  },
  {
   "cell_type": "code",
   "execution_count": 4,
   "outputs": [
    {
     "name": "stdout",
     "output_type": "stream",
     "text": [
      "C:\\Users\\User\\Desktop\\Main-NLP-PROJECTS\\Text-Summarization-Project\n"
     ]
    }
   ],
   "source": [
    "!cd"
   ],
   "metadata": {
    "collapsed": false,
    "ExecuteTime": {
     "end_time": "2023-11-21T21:17:24.181046300Z",
     "start_time": "2023-11-21T21:17:24.012045200Z"
    }
   },
   "id": "958f92fc5d67546e"
  },
  {
   "cell_type": "code",
   "execution_count": 12,
   "outputs": [],
   "source": [
    "#entity\n",
    "from dataclasses import dataclass\n",
    "from pathlib import Path\n",
    "\n",
    "@dataclass(frozen=True)\n",
    "class DataValidationConfig:\n",
    "    root_dir: Path\n",
    "    STATUS_FILE: str\n",
    "    ALL_REQUIRED_FILES: list"
   ],
   "metadata": {
    "collapsed": false,
    "ExecuteTime": {
     "end_time": "2023-11-21T21:38:44.419897200Z",
     "start_time": "2023-11-21T21:38:44.393913900Z"
    }
   },
   "id": "8bf6f149e325cbd5"
  },
  {
   "cell_type": "code",
   "execution_count": 13,
   "outputs": [],
   "source": [
    "#configuration managre\n",
    "from TextSummarizer.constants import *\n",
    "from TextSummarizer.utils.common import read_yaml,create_directory\n"
   ],
   "metadata": {
    "collapsed": false,
    "ExecuteTime": {
     "end_time": "2023-11-21T21:38:44.976085200Z",
     "start_time": "2023-11-21T21:38:44.950091400Z"
    }
   },
   "id": "5b93a67a4f8f518f"
  },
  {
   "cell_type": "code",
   "execution_count": 19,
   "outputs": [],
   "source": [
    "class ConfigurationManager:\n",
    "    def __init__(self,\n",
    "                 condfi_filepath = CONFIG_FILE_PATH,\n",
    "                 params_filepath = PARAMS_FILE_PATH):\n",
    "        self.config=read_yaml(condfi_filepath)\n",
    "        self.params = read_yaml(params_filepath)\n",
    "        create_directory([self.config.artifact_root])\n",
    "        \n",
    "    def data_validation_config(self) -> DataValidationConfig:\n",
    "        confi  g = self.config.data_validation\n",
    "        create_directory([config.root_dir])\n",
    "        \n",
    "        data_validation_config = DataValidationConfig(\n",
    "            root_dir=config.root_dir,\n",
    "            STATUS_FILE=config.STATUS_FILE,\n",
    "            ALL_REQUIRED_FILES=config.ALL_REQUIRED_FILES,\n",
    "        )\n",
    "        return data_validation_config\n",
    "    \n",
    "\n",
    "\n",
    "    "
   ],
   "metadata": {
    "collapsed": false,
    "ExecuteTime": {
     "end_time": "2023-11-21T21:40:40.802509600Z",
     "start_time": "2023-11-21T21:40:40.683515500Z"
    }
   },
   "id": "1cda15c001a1ccc"
  },
  {
   "cell_type": "code",
   "execution_count": 22,
   "outputs": [],
   "source": [
    "#components\n",
    "class DataValidation:\n",
    "    def __init__(self,config:DataValidationConfig):\n",
    "        self.config = config\n",
    "    def validate_all_file_exists(self) -> bool:\n",
    "        try:\n",
    "            validation_status = None\n",
    "            all_files = os.listdir(os.path.join(\"artifacts\",\"data_ingestion\",\"samsum_dataset\"))\n",
    "            for file_ in all_files:\n",
    "                if file_ not in self.config.ALL_REQUIRED_FILES:\n",
    "                    validation_status = False\n",
    "                    with open(self.config.STATUS_FILE, \"w\") as f:\n",
    "                        f.write(f\"Validation status: {validation_status}\")\n",
    "                else:\n",
    "                    validation_status = True\n",
    "                    with open(self.config.STATUS_FILE,\"w\") as f:\n",
    "                        \n",
    "                        f.write(f\"Validation status: {validation_status}\")           \n",
    "            return validation_status\n",
    "        except Exception as e:\n",
    "            raise e\n",
    "                "
   ],
   "metadata": {
    "collapsed": false,
    "ExecuteTime": {
     "end_time": "2023-11-21T21:41:35.013533800Z",
     "start_time": "2023-11-21T21:41:34.920482900Z"
    }
   },
   "id": "91c060e33741c05d"
  },
  {
   "cell_type": "code",
   "execution_count": 23,
   "outputs": [
    {
     "name": "stdout",
     "output_type": "stream",
     "text": [
      "[2023-11-21 22:41:35,332: INFO: common: Directory Artifacts created]\n",
      "[2023-11-21 22:41:35,336: INFO: common: Directory Artifacts/data_validation created]\n"
     ]
    }
   ],
   "source": [
    "#pipelinetyr\n",
    "try:\n",
    "    config = ConfigurationManager()\n",
    "    data_validation_config = config.data_validation_config()\n",
    "    data_validation = DataValidation(config=data_validation_config)\n",
    "    data_validation.validate_all_file_exists()\n",
    "except Exception as e:\n",
    "    raise e\n",
    "    \n"
   ],
   "metadata": {
    "collapsed": false,
    "ExecuteTime": {
     "end_time": "2023-11-21T21:41:35.358311900Z",
     "start_time": "2023-11-21T21:41:35.335312900Z"
    }
   },
   "id": "d271ba03bb4aa5c9"
  },
  {
   "cell_type": "code",
   "execution_count": null,
   "outputs": [],
   "source": [],
   "metadata": {
    "collapsed": false
   },
   "id": "8b5dc98e9556e17c"
  }
 ],
 "metadata": {
  "kernelspec": {
   "display_name": "Python 3",
   "language": "python",
   "name": "python3"
  },
  "language_info": {
   "codemirror_mode": {
    "name": "ipython",
    "version": 2
   },
   "file_extension": ".py",
   "mimetype": "text/x-python",
   "name": "python",
   "nbconvert_exporter": "python",
   "pygments_lexer": "ipython2",
   "version": "2.7.6"
  }
 },
 "nbformat": 4,
 "nbformat_minor": 5
}
